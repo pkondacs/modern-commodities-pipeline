{
 "cells": [
  {
   "cell_type": "code",
   "execution_count": 0,
   "metadata": {
    "application/vnd.databricks.v1+cell": {
     "cellMetadata": {
      "byteLimit": 2048000,
      "rowLimit": 10000
     },
     "inputWidgets": {},
     "nuid": "c0e286fd-42c1-4f40-99be-aeeefbfe4bf1",
     "showTitle": false,
     "tableResultSettingsMap": {},
     "title": ""
    }
   },
   "outputs": [],
   "source": [
    "# Choose a unique sandbox (change if you re-run)\n",
    "catalog   = \"main\" # or your UC catalog\n",
    "schema    = \"demo_schema_migration\"\n",
    "table     = \"bronze_customers_demo\"\n",
    "base_path = f\"/tmp/{table}\"\n",
    "\n",
    "raw_path        = f\"{base_path}/raw\"\n",
    "schema_loc_path = f\"{base_path}/_schemas\"\n",
    "delta_path      = f\"{base_path}/delta\"\n",
    "\n",
    "spark.sql(f\"CREATE CATALOG IF NOT EXISTS {catalog}\")\n",
    "spark.sql(f\"CREATE SCHEMA  IF NOT EXISTS {catalog}.{schema}\")\n",
    "spark.sql(f\"USE {catalog}.{schema}\")\n",
    "\n",
    "# Clean up previous runs\n",
    "for p in [raw_path, schema_loc_path, delta_path]:\n",
    "    if any([f.path == p for f in dbutils.fs.ls(\"/\")]):\n",
    "        dbutils.fs.rm(p, True)\n"
   ]
  }
 ],
 "metadata": {
  "application/vnd.databricks.v1+notebook": {
   "computePreferences": null,
   "dashboards": [],
   "environmentMetadata": {
    "base_environment": "",
    "environment_version": "4"
   },
   "inputWidgetPreferences": null,
   "language": "python",
   "notebookMetadata": {
    "pythonIndentUnit": 4
   },
   "notebookName": "Schema enforcement",
   "widgets": {}
  },
  "language_info": {
   "name": "python"
  }
 },
 "nbformat": 4,
 "nbformat_minor": 0
}
